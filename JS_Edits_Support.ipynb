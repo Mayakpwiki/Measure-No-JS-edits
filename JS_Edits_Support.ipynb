{
 "cells": [
  {
   "cell_type": "markdown",
   "metadata": {},
   "source": [
    "# Measure % of edits coming from users without JS [T240697](https://phabricator.wikimedia.org/T240697)"
   ]
  },
  {
   "cell_type": "markdown",
   "metadata": {},
   "source": [
    "We need to find out how many people are editing with no JS support (either in a browser that doesn't have JS support, or a regular browser with JS turned off). See the parent task for more info [T234695](https://phabricator.wikimedia.org/T234695) . We just need some ballpark numbers here, sampling is fine.  \n",
    "\n",
    "Results-  For the year 2020 :  \n",
    " snapshot % of user edits done with no JS support : **27.8 %**\n",
    " \n",
    " snapshot % of anon edits done with no JS support :  **13.48 %**   \n",
    " \n",
    " snapshot % of all edits done with no JS support :  **25.12 %**  \n",
    " \n",
    "\n",
    "Results-  For the year 2019 :  \n",
    " snapshot % of user edits done with no JS support : **29.4 %**\n",
    " \n",
    " snapshot % of anon edits done with no JS support :  **14.54 %**   \n",
    " \n",
    " snapshot % of all edits done with no JS support :  **26.37 %**  \n",
    " \n",
    " - Note that these numbers include users that have no JS in addition to many others that have ad-blockers installed and/or  enabled DNT. We will not be able to differentiate between these users without additional instrumentation"
   ]
  },
  {
   "cell_type": "markdown",
   "metadata": {},
   "source": [
    "##### We also checked the numbers by Editor Interface and got the following results: \n",
    "    \n",
    "For the year 2020:       \n",
    "Snapshot % of user edits done with no JS support in 2020 :   \n",
    "visualeditor      5.5 %  \n",
    "wikitext         30.6 %  \n",
    "wikitext-2017     0.15 %   \n",
    "\n",
    "Snapshot % of anon edits done with no JS support in 2020:     \n",
    "visualeditor      1.8 %   \n",
    "wikitext         15.4 %    \n",
    "wikitext-2017     0.0 %\n",
    "\n",
    "Snapshot % of all edits done with no JS support in 2020:    \n",
    "visualeditor      4.47 %     \n",
    "wikitext         27.86 %     \n",
    "wikitext-2017     0.15 %    \n",
    "\n",
    "For the year 2019:       \n",
    "Snapshot % of user edits done with no JS support in 2019 :    \n",
    "visualeditor      4.2 %   \n",
    "wikitext         31.8 %      \n",
    "wikitext-2017     4.62 %   \n",
    "\n",
    "Snapshot % of anon edits done with no JS support in 2019:     \n",
    "visualeditor      4.05 %    \n",
    "wikitext         16.17 %   \n",
    "wikitext-2017     0.0 %  \n",
    "\n",
    "Snapshot % of all edits done with no JS support in 2019:       \n",
    "visualeditor      4.17 %    \n",
    "wikitext         28.76 %    \n",
    "wikitext-2017     4.62 %     \n",
    "\n",
    "\n",
    "The no-JS edit proportions by editing interfaces raises some interesting observations and questions :    \n",
    "1. The wikitext-2017 editor is a turn-on beta preference hence the anonymous non-JS edits made with it is rightly 0%\n",
    "2. We have excluded all oversampled sessions from editattemptstep to obtain these results. \n",
    "3. With the assumption that VisualEditor always requires JS to load and enable editing, could the small proportion of non-JS edits for VE that we see above be indicative of users who have blocked Client-side eventlogging ?    \n",
    "4. These proportions may not apply equitably to all Wikis. \n",
    "5. The wikitext editor numbers includes users that have no-JS support in addition to many others that have ad-blockers installed and/or enabled DNT. We will not be able to differentiate between these users without additional instrumentation\n",
    "\n"
   ]
  },
  {
   "cell_type": "code",
   "execution_count": 2,
   "metadata": {},
   "outputs": [
    {
     "name": "stderr",
     "output_type": "stream",
     "text": [
      "You are using wmfdata v1.0.1, but v1.0.3 is available.\n",
      "\n",
      "To update, run `pip install --upgrade git+https://github.com/neilpquinn/wmfdata/wmfdata.git@release`.\n",
      "\n",
      "To see the changes, refer to https://github.com/neilpquinn/wmfdata/blob/release/CHANGELOG.md\n"
     ]
    }
   ],
   "source": [
    "import matplotlib.pyplot as plt\n",
    "from matplotlib.ticker import StrMethodFormatter\n",
    "import numpy as np\n",
    "import pandas as pd\n",
    "from tabulate import tabulate\n",
    "from wmfdata import charting, hive, mariadb\n",
    "from wmfdata.charting import comma_fmt, pct_fmt\n",
    "from wmfdata.utils import df_to_remarkup, pct_str"
   ]
  },
  {
   "cell_type": "markdown",
   "metadata": {},
   "source": [
    "Based on discussions with R Kaldari and D Lynch here are the recommended steps that could be used to answer each of the 3 questions in the task description:  \n",
    "\n",
    "Snapshot % of user edits done with no JS support:  \n",
    "Within a specific timespan, take:  \n",
    "number of sessions where user_id !== 0, integration === page, actions include init, saveSuccess, and not ready.  \n",
    "Divide by:  \n",
    "number of sessions where user_id !== 0, integration === page, actions include init, ready, and saveSuccess.\n",
    "\n",
    "Snapshot % of anon edits done with no JS support:  \n",
    "Within a specific timespan, take:  \n",
    "number of sessions where user_id === 0, integration === page, actions include init, saveSuccess, and not ready.  \n",
    "Divide by:  \n",
    "number of sessions where user_id === 0, integration === page, actions include init, ready, and saveSuccess.  \n",
    "\n",
    "Snapshot % of all edits done with no JS support:  \n",
    "Within a specific timespan, take:  \n",
    "number of sessions where integration === page, actions include init, saveSuccess, and not ready.  \n",
    "Divide by:  \n",
    "number of sessions where integration === page, actions include init, ready, and saveSuccess.  \n",
    "\n",
    "Note that I've decided not to worry about which editor the user is using (editor_interface), which should simplify things a bit."
   ]
  },
  {
   "cell_type": "code",
   "execution_count": 55,
   "metadata": {},
   "outputs": [],
   "source": [
    "edit_sessions_query_2020= '''\n",
    "\n",
    "-- We are only interested in sessions with saveSuccess events i.e. saved edits -- \n",
    "\n",
    "WITH saveSuccess_sessions as (\n",
    "SELECT distinct event.editing_session_id AS ss_session_id,\n",
    "  event.user_id AS user_id\n",
    "FROM event_sanitized.editattemptstep\n",
    "WHERE event.integration = 'page' \n",
    "  AND year = 2020  \n",
    "  AND NOT event.is_oversample -- Taking out Oversampled edits\n",
    "  AND event.action = 'saveSuccess' \n",
    "), \n",
    "\n",
    "\n",
    "-- Now we will use sessions without 'Ready' events to identify user edits done with no JS support -- \n",
    "\n",
    "ready_sessions as (\n",
    "SELECT event.editing_session_id AS ready_session_id ,\n",
    "  event.action as ready_action\n",
    "FROM event_sanitized.editattemptstep eas\n",
    "WHERE event.integration = 'page' \n",
    "  AND year = 2020  \n",
    "  AND event.action='ready'\n",
    ")\n",
    "\n",
    "-- Main Query -- \n",
    "SELECT\n",
    "  SUM(CAST(user_id!=0 AND ready_action is null AS int)) AS logged_nonjs_edits,\n",
    "  SUM(CAST(user_id=0 and ready_action is null AS int)) AS anon_nonjs_edits,\n",
    "  SUM(CAST(user_id!=0 and ready_action='ready' AS int)) AS logged_js_edits,\n",
    "  SUM(CAST(user_id=0 and ready_action='ready' AS int)) AS anon_js_edits,\n",
    "  SUM(CAST(ready_action is null AS int)) AS all_nonjs_edits,\n",
    "  SUM(CAST(ready_action='ready' AS int)) AS all_js_edits\n",
    "\n",
    "FROM (\n",
    "  SELECT \n",
    "    user_id AS user_id , \n",
    "    ss_session_id AS ss_session_id,\n",
    "    ready_action \n",
    "  FROM saveSuccess_sessions ss  \n",
    "  LEFT JOIN ready_sessions ON ss.ss_session_id = ready_sessions.ready_session_id \n",
    "  --WHERE ready_sessions.ready_session_id IS NULL  \n",
    "        \n",
    "  GROUP BY ss.user_id, \n",
    "    ss.ss_session_id, \n",
    "    ready_sessions.ready_action\n",
    "    ) edit_sessions\n",
    "'''"
   ]
  },
  {
   "cell_type": "code",
   "execution_count": 56,
   "metadata": {},
   "outputs": [],
   "source": [
    "edit_sessions_2020= hive.run(\n",
    "    [\n",
    "        \"SET mapreduce.map.memory.mb=4096\", \n",
    "        \"SET hive.mapred.mode=nonstrict\",\n",
    "        edit_sessions_query_2020 \n",
    "    ]\n",
    ")\n",
    "\n"
   ]
  },
  {
   "cell_type": "markdown",
   "metadata": {},
   "source": [
    "Count of JS and non-JS edits with the assumption that -    \n",
    "nonJS edits : number of sessions where event actions include init, saveSuccess, and not ready.     \n",
    "JS edits : number of sessions where actions include init, ready, and saveSuccess.\n"
   ]
  },
  {
   "cell_type": "code",
   "execution_count": 57,
   "metadata": {},
   "outputs": [
    {
     "data": {
      "text/html": [
       "<div>\n",
       "<style scoped>\n",
       "    .dataframe tbody tr th:only-of-type {\n",
       "        vertical-align: middle;\n",
       "    }\n",
       "\n",
       "    .dataframe tbody tr th {\n",
       "        vertical-align: top;\n",
       "    }\n",
       "\n",
       "    .dataframe thead th {\n",
       "        text-align: right;\n",
       "    }\n",
       "</style>\n",
       "<table border=\"1\" class=\"dataframe\">\n",
       "  <thead>\n",
       "    <tr style=\"text-align: right;\">\n",
       "      <th></th>\n",
       "      <th>logged_nonjs_edits</th>\n",
       "      <th>anon_nonjs_edits</th>\n",
       "      <th>logged_js_edits</th>\n",
       "      <th>anon_js_edits</th>\n",
       "      <th>all_nonjs_edits</th>\n",
       "      <th>all_js_edits</th>\n",
       "    </tr>\n",
       "  </thead>\n",
       "  <tbody>\n",
       "    <tr>\n",
       "      <th>0</th>\n",
       "      <td>783634</td>\n",
       "      <td>87733</td>\n",
       "      <td>2034214</td>\n",
       "      <td>563037</td>\n",
       "      <td>871367</td>\n",
       "      <td>2597251</td>\n",
       "    </tr>\n",
       "  </tbody>\n",
       "</table>\n",
       "</div>"
      ],
      "text/plain": [
       "   logged_nonjs_edits  anon_nonjs_edits  logged_js_edits  anon_js_edits  \\\n",
       "0              783634             87733          2034214         563037   \n",
       "\n",
       "   all_nonjs_edits  all_js_edits  \n",
       "0           871367       2597251  "
      ]
     },
     "execution_count": 57,
     "metadata": {},
     "output_type": "execute_result"
    }
   ],
   "source": [
    "edit_sessions_2020"
   ]
  },
  {
   "cell_type": "markdown",
   "metadata": {},
   "source": [
    "### If we're interested in knowing the proportion of non-JS edits we should be dividing the number of non-JS edits by the sum of JS and non-JS edits"
   ]
  },
  {
   "cell_type": "code",
   "execution_count": 68,
   "metadata": {},
   "outputs": [
    {
     "name": "stdout",
     "output_type": "stream",
     "text": [
      "Snapshot % of user edits done with no JS support in 2020:  0    27.809662\n",
      "dtype: float64\n"
     ]
    }
   ],
   "source": [
    "print ('Snapshot % of user edits done with no JS support in 2020: ',\n",
    "       (100* (edit_sessions_2020['logged_nonjs_edits'] / \n",
    "              ( edit_sessions_2020['logged_js_edits'] + edit_sessions_2020['logged_nonjs_edits'])))\n",
    "      )"
   ]
  },
  {
   "cell_type": "code",
   "execution_count": 69,
   "metadata": {},
   "outputs": [
    {
     "name": "stdout",
     "output_type": "stream",
     "text": [
      "Snapshot % of anon edits done with no JS support in 2020: 0    13.481414\n",
      "dtype: float64\n"
     ]
    }
   ],
   "source": [
    "print ('Snapshot % of anon edits done with no JS support in 2020:',\n",
    "       (100* (edit_sessions_2020['anon_nonjs_edits'] / \n",
    "              ( edit_sessions_2020['anon_js_edits'] + edit_sessions_2020['anon_nonjs_edits'])))\n",
    "      )"
   ]
  },
  {
   "cell_type": "code",
   "execution_count": 70,
   "metadata": {},
   "outputs": [
    {
     "name": "stdout",
     "output_type": "stream",
     "text": [
      "Snapshot % of all edits done with no JS support in 2020: 0    25.121446\n",
      "dtype: float64\n"
     ]
    }
   ],
   "source": [
    "print ('Snapshot % of all edits done with no JS support in 2020:',\n",
    "       (100* (edit_sessions_2020['all_nonjs_edits'] / \n",
    "              ( edit_sessions_2020['all_js_edits'] + edit_sessions_2020['all_nonjs_edits'])))\n",
    "      )"
   ]
  },
  {
   "cell_type": "markdown",
   "metadata": {},
   "source": [
    "**Now lets look at similar numbers from 2019**"
   ]
  },
  {
   "cell_type": "code",
   "execution_count": 61,
   "metadata": {},
   "outputs": [],
   "source": [
    "edit_sessions_query_2019= '''\n",
    "\n",
    "-- We are only interested in sessions with saveSuccess events i.e. saved edits -- \n",
    "\n",
    "WITH saveSuccess_sessions as (\n",
    "SELECT distinct event.editing_session_id AS ss_session_id,\n",
    "  event.user_id AS user_id\n",
    "FROM event_sanitized.editattemptstep\n",
    "WHERE event.integration = 'page' \n",
    "  AND year = 2019  \n",
    "  AND NOT event.is_oversample -- Taking out Oversampled edits\n",
    "  AND event.action = 'saveSuccess' \n",
    "), \n",
    "\n",
    "\n",
    "-- Now we will use sessions without 'Ready' events to identify user edits done with no JS support -- \n",
    "\n",
    "ready_sessions as (\n",
    "SELECT event.editing_session_id AS ready_session_id ,\n",
    "  event.action as ready_action\n",
    "FROM event_sanitized.editattemptstep eas\n",
    "WHERE event.integration = 'page' \n",
    "  AND year = 2019  \n",
    "  AND event.action='ready'\n",
    ")\n",
    "\n",
    "-- Main Query -- \n",
    "SELECT\n",
    "  SUM(CAST(user_id!=0 AND ready_action is null AS int)) AS logged_nonjs_edits,\n",
    "  SUM(CAST(user_id=0 and ready_action is null AS int)) AS anon_nonjs_edits,\n",
    "  SUM(CAST(user_id!=0 and ready_action='ready' AS int)) AS logged_js_edits,\n",
    "  SUM(CAST(user_id=0 and ready_action='ready' AS int)) AS anon_js_edits,\n",
    "  SUM(CAST(ready_action is null AS int)) AS all_nonjs_edits,\n",
    "  SUM(CAST(ready_action='ready' AS int)) AS all_js_edits\n",
    "\n",
    "FROM (\n",
    "  SELECT \n",
    "    user_id AS user_id , \n",
    "    ss_session_id AS ss_session_id,\n",
    "    ready_action \n",
    "  FROM saveSuccess_sessions ss  \n",
    "  LEFT JOIN ready_sessions ON ss.ss_session_id = ready_sessions.ready_session_id \n",
    "  --WHERE ready_sessions.ready_session_id IS NULL  \n",
    "        \n",
    "  GROUP BY ss.user_id, \n",
    "    ss.ss_session_id, \n",
    "    ready_sessions.ready_action\n",
    "    ) edit_sessions\n",
    "'''"
   ]
  },
  {
   "cell_type": "code",
   "execution_count": 62,
   "metadata": {},
   "outputs": [],
   "source": [
    " edit_sessions_2019= hive.run(\n",
    "    [\n",
    "        \"SET mapreduce.map.memory.mb=4096\", \n",
    "        \"SET hive.mapred.mode=nonstrict\",\n",
    "        edit_sessions_query_2019\n",
    "    ]\n",
    ")\n",
    "\n"
   ]
  },
  {
   "cell_type": "code",
   "execution_count": 63,
   "metadata": {},
   "outputs": [
    {
     "data": {
      "text/html": [
       "<div>\n",
       "<style scoped>\n",
       "    .dataframe tbody tr th:only-of-type {\n",
       "        vertical-align: middle;\n",
       "    }\n",
       "\n",
       "    .dataframe tbody tr th {\n",
       "        vertical-align: top;\n",
       "    }\n",
       "\n",
       "    .dataframe thead th {\n",
       "        text-align: right;\n",
       "    }\n",
       "</style>\n",
       "<table border=\"1\" class=\"dataframe\">\n",
       "  <thead>\n",
       "    <tr style=\"text-align: right;\">\n",
       "      <th></th>\n",
       "      <th>logged_nonjs_edits</th>\n",
       "      <th>anon_nonjs_edits</th>\n",
       "      <th>logged_js_edits</th>\n",
       "      <th>anon_js_edits</th>\n",
       "      <th>all_nonjs_edits</th>\n",
       "      <th>all_js_edits</th>\n",
       "    </tr>\n",
       "  </thead>\n",
       "  <tbody>\n",
       "    <tr>\n",
       "      <th>0</th>\n",
       "      <td>1665592</td>\n",
       "      <td>210986</td>\n",
       "      <td>3998811</td>\n",
       "      <td>1239112</td>\n",
       "      <td>1876578</td>\n",
       "      <td>5237923</td>\n",
       "    </tr>\n",
       "  </tbody>\n",
       "</table>\n",
       "</div>"
      ],
      "text/plain": [
       "   logged_nonjs_edits  anon_nonjs_edits  logged_js_edits  anon_js_edits  \\\n",
       "0             1665592            210986          3998811        1239112   \n",
       "\n",
       "   all_nonjs_edits  all_js_edits  \n",
       "0          1876578       5237923  "
      ]
     },
     "execution_count": 63,
     "metadata": {},
     "output_type": "execute_result"
    }
   ],
   "source": [
    "edit_sessions_2019"
   ]
  },
  {
   "cell_type": "code",
   "execution_count": null,
   "metadata": {},
   "outputs": [],
   "source": []
  },
  {
   "cell_type": "code",
   "execution_count": 64,
   "metadata": {},
   "outputs": [
    {
     "name": "stdout",
     "output_type": "stream",
     "text": [
      "Snapshot % of user edits done with no JS support in 2019 : 0    29.404546\n",
      "dtype: float64\n"
     ]
    }
   ],
   "source": [
    "print ('Snapshot % of user edits done with no JS support in 2019 :',\n",
    "       (100* (edit_sessions_2019['logged_nonjs_edits'] / \n",
    "              ( edit_sessions_2019['logged_js_edits'] + edit_sessions_2019['logged_nonjs_edits'])))\n",
    "      )"
   ]
  },
  {
   "cell_type": "code",
   "execution_count": 65,
   "metadata": {},
   "outputs": [
    {
     "name": "stdout",
     "output_type": "stream",
     "text": [
      "Snapshot % of anon edits done with no JS support in 2019 : 0    14.549775\n",
      "dtype: float64\n"
     ]
    }
   ],
   "source": [
    "print ('Snapshot % of anon edits done with no JS support in 2019 :',\n",
    "       (100* (edit_sessions_2019['anon_nonjs_edits'] / \n",
    "              ( edit_sessions_2019['anon_js_edits'] + edit_sessions_2019['anon_nonjs_edits'])))\n",
    "      )"
   ]
  },
  {
   "cell_type": "code",
   "execution_count": 66,
   "metadata": {},
   "outputs": [
    {
     "name": "stdout",
     "output_type": "stream",
     "text": [
      "Snapshot % of all edits done with no JS support in 2019 : 0    26.376804\n",
      "dtype: float64\n"
     ]
    }
   ],
   "source": [
    "print ('Snapshot % of all edits done with no JS support in 2019 :',\n",
    "       (100* (edit_sessions_2019['all_nonjs_edits'] / \n",
    "              ( edit_sessions_2019['all_js_edits'] + edit_sessions_2019['all_nonjs_edits'])))\n",
    "      )"
   ]
  },
  {
   "cell_type": "markdown",
   "metadata": {},
   "source": [
    "### Next lets look at non-JS edits proportion by editing interface\n",
    "For the year 2020"
   ]
  },
  {
   "cell_type": "code",
   "execution_count": 74,
   "metadata": {},
   "outputs": [],
   "source": [
    "edit_interface_query_2020= '''\n",
    "\n",
    "-- We are only interested in sessions with saveSuccess events i.e. saved edits -- \n",
    "\n",
    "WITH saveSuccess_sessions as (\n",
    "SELECT distinct event.editing_session_id AS ss_session_id,\n",
    "  event.user_id AS user_id, \n",
    "  event.editor_interface AS editing_interface\n",
    "FROM event_sanitized.editattemptstep\n",
    "WHERE event.integration = 'page' \n",
    "  AND year = 2020  \n",
    "  AND NOT event.is_oversample -- Taking out Oversampled edits\n",
    "  AND event.action = 'saveSuccess' \n",
    "), \n",
    "\n",
    "\n",
    "-- Now we will use sessions without 'Ready' events to identify user edits done with no JS support -- \n",
    "\n",
    "ready_sessions as (\n",
    "SELECT event.editing_session_id AS ready_session_id ,\n",
    "  event.action as ready_action\n",
    "FROM event_sanitized.editattemptstep eas\n",
    "WHERE event.integration = 'page' \n",
    "  AND year = 2020  \n",
    "  AND event.action='ready'\n",
    ")\n",
    "\n",
    "-- Main Query -- \n",
    "SELECT\n",
    "  editing_interface AS editing_interface,  \n",
    "  SUM(CAST(user_id!=0 AND ready_action is null AS int)) AS logged_nonjs_edits,\n",
    "  SUM(CAST(user_id=0 and ready_action is null AS int)) AS anon_nonjs_edits,\n",
    "  SUM(CAST(user_id!=0 and ready_action='ready' AS int)) AS logged_js_edits,\n",
    "  SUM(CAST(user_id=0 and ready_action='ready' AS int)) AS anon_js_edits,\n",
    "  SUM(CAST(ready_action is null AS int)) AS all_nonjs_edits,\n",
    "  SUM(CAST(ready_action='ready' AS int)) AS all_js_edits\n",
    "\n",
    "FROM (\n",
    "  SELECT \n",
    "    user_id AS user_id , \n",
    "    ss_session_id AS ss_session_id,\n",
    "    editing_interface,\n",
    "    ready_action \n",
    "  FROM saveSuccess_sessions ss  \n",
    "  LEFT JOIN ready_sessions ON ss.ss_session_id = ready_sessions.ready_session_id \n",
    "  --WHERE ready_sessions.ready_session_id IS NULL  \n",
    "        \n",
    "  GROUP BY ss.user_id, \n",
    "    ss.ss_session_id, \n",
    "    ss.editing_interface,\n",
    "    ready_sessions.ready_action\n",
    "    ) edit_sessions\n",
    "\n",
    "GROUP BY editing_interface    \n",
    "'''"
   ]
  },
  {
   "cell_type": "code",
   "execution_count": 75,
   "metadata": {},
   "outputs": [],
   "source": [
    "edit_interface_sessions_2020= hive.run(\n",
    "    [\n",
    "        \"SET mapreduce.map.memory.mb=4096\", \n",
    "        \"SET hive.mapred.mode=nonstrict\",\n",
    "        edit_interface_query_2020 \n",
    "    ]\n",
    ")\n"
   ]
  },
  {
   "cell_type": "code",
   "execution_count": 76,
   "metadata": {},
   "outputs": [
    {
     "data": {
      "text/html": [
       "<div>\n",
       "<style scoped>\n",
       "    .dataframe tbody tr th:only-of-type {\n",
       "        vertical-align: middle;\n",
       "    }\n",
       "\n",
       "    .dataframe tbody tr th {\n",
       "        vertical-align: top;\n",
       "    }\n",
       "\n",
       "    .dataframe thead th {\n",
       "        text-align: right;\n",
       "    }\n",
       "</style>\n",
       "<table border=\"1\" class=\"dataframe\">\n",
       "  <thead>\n",
       "    <tr style=\"text-align: right;\">\n",
       "      <th></th>\n",
       "      <th>editing_interface</th>\n",
       "      <th>logged_nonjs_edits</th>\n",
       "      <th>anon_nonjs_edits</th>\n",
       "      <th>logged_js_edits</th>\n",
       "      <th>anon_js_edits</th>\n",
       "      <th>all_nonjs_edits</th>\n",
       "      <th>all_js_edits</th>\n",
       "    </tr>\n",
       "  </thead>\n",
       "  <tbody>\n",
       "    <tr>\n",
       "      <th>0</th>\n",
       "      <td>visualeditor</td>\n",
       "      <td>13000</td>\n",
       "      <td>1774</td>\n",
       "      <td>223169</td>\n",
       "      <td>92468</td>\n",
       "      <td>14774</td>\n",
       "      <td>315637</td>\n",
       "    </tr>\n",
       "    <tr>\n",
       "      <th>1</th>\n",
       "      <td>wikitext</td>\n",
       "      <td>771553</td>\n",
       "      <td>86077</td>\n",
       "      <td>1749194</td>\n",
       "      <td>471378</td>\n",
       "      <td>857630</td>\n",
       "      <td>2220572</td>\n",
       "    </tr>\n",
       "    <tr>\n",
       "      <th>2</th>\n",
       "      <td>wikitext-2017</td>\n",
       "      <td>99</td>\n",
       "      <td>0</td>\n",
       "      <td>65041</td>\n",
       "      <td>8</td>\n",
       "      <td>99</td>\n",
       "      <td>65049</td>\n",
       "    </tr>\n",
       "  </tbody>\n",
       "</table>\n",
       "</div>"
      ],
      "text/plain": [
       "  editing_interface  logged_nonjs_edits  anon_nonjs_edits  logged_js_edits  \\\n",
       "0      visualeditor               13000              1774           223169   \n",
       "1          wikitext              771553             86077          1749194   \n",
       "2     wikitext-2017                  99                 0            65041   \n",
       "\n",
       "   anon_js_edits  all_nonjs_edits  all_js_edits  \n",
       "0          92468            14774        315637  \n",
       "1         471378           857630       2220572  \n",
       "2              8               99         65049  "
      ]
     },
     "execution_count": 76,
     "metadata": {},
     "output_type": "execute_result"
    }
   ],
   "source": [
    "edit_interface_sessions_2020"
   ]
  },
  {
   "cell_type": "code",
   "execution_count": 94,
   "metadata": {},
   "outputs": [],
   "source": [
    "edit_interface_sessions_2020=edit_interface_sessions_2020.set_index('editing_interface')"
   ]
  },
  {
   "cell_type": "code",
   "execution_count": 95,
   "metadata": {},
   "outputs": [
    {
     "name": "stdout",
     "output_type": "stream",
     "text": [
      "Snapshot % of user edits done with no JS support in 2020 : editing_interface\n",
      "visualeditor      5.504533\n",
      "wikitext         30.608109\n",
      "wikitext-2017     0.151980\n",
      "dtype: float64\n"
     ]
    }
   ],
   "source": [
    "print ('Snapshot % of user edits done with no JS support in 2020 :',\n",
    "       (100* (edit_interface_sessions_2020['logged_nonjs_edits'] / \n",
    "              ( edit_interface_sessions_2020['logged_js_edits'] + edit_interface_sessions_2020['logged_nonjs_edits'])))\n",
    "      )"
   ]
  },
  {
   "cell_type": "code",
   "execution_count": 96,
   "metadata": {},
   "outputs": [
    {
     "name": "stdout",
     "output_type": "stream",
     "text": [
      "Snapshot % of anon edits done with no JS support in 2020: editing_interface\n",
      "visualeditor      1.882388\n",
      "wikitext         15.441067\n",
      "wikitext-2017     0.000000\n",
      "dtype: float64\n"
     ]
    }
   ],
   "source": [
    "print ('Snapshot % of anon edits done with no JS support in 2020:',\n",
    "       (100* (edit_interface_sessions_2020['anon_nonjs_edits'] / \n",
    "              ( edit_interface_sessions_2020['anon_js_edits'] + edit_interface_sessions_2020['anon_nonjs_edits'])))\n",
    "      )"
   ]
  },
  {
   "cell_type": "code",
   "execution_count": 97,
   "metadata": {},
   "outputs": [
    {
     "name": "stdout",
     "output_type": "stream",
     "text": [
      "Snapshot % of all edits done with no JS support in 2020: editing_interface\n",
      "visualeditor      4.471401\n",
      "wikitext         27.861394\n",
      "wikitext-2017     0.151962\n",
      "dtype: float64\n"
     ]
    }
   ],
   "source": [
    "print ('Snapshot % of all edits done with no JS support in 2020:',\n",
    "       (100* (edit_interface_sessions_2020['all_nonjs_edits'] / \n",
    "              ( edit_interface_sessions_2020['all_js_edits'] + edit_interface_sessions_2020['all_nonjs_edits'])))\n",
    "      )"
   ]
  },
  {
   "cell_type": "markdown",
   "metadata": {},
   "source": [
    "**Now let's look at the numbers for the year 2019**"
   ]
  },
  {
   "cell_type": "code",
   "execution_count": 80,
   "metadata": {},
   "outputs": [],
   "source": [
    "edit_interface_query_2019= '''\n",
    "\n",
    "-- We are only interested in sessions with saveSuccess events i.e. saved edits -- \n",
    "\n",
    "WITH saveSuccess_sessions as (\n",
    "SELECT distinct event.editing_session_id AS ss_session_id,\n",
    "  event.user_id AS user_id, \n",
    "  event.editor_interface AS editing_interface\n",
    "FROM event_sanitized.editattemptstep\n",
    "WHERE event.integration = 'page' \n",
    "  AND year = 2019  \n",
    "  AND NOT event.is_oversample -- Taking out Oversampled edits\n",
    "  AND event.action = 'saveSuccess' \n",
    "), \n",
    "\n",
    "\n",
    "-- Now we will use sessions without 'Ready' events to identify user edits done with no JS support -- \n",
    "\n",
    "ready_sessions as (\n",
    "SELECT event.editing_session_id AS ready_session_id ,\n",
    "  event.action as ready_action\n",
    "FROM event_sanitized.editattemptstep eas\n",
    "WHERE event.integration = 'page' \n",
    "  AND year = 2019  \n",
    "  AND event.action='ready'\n",
    ")\n",
    "\n",
    "-- Main Query -- \n",
    "SELECT\n",
    "  editing_interface AS editing_interface,  \n",
    "  SUM(CAST(user_id!=0 AND ready_action is null AS int)) AS logged_nonjs_edits,\n",
    "  SUM(CAST(user_id=0 and ready_action is null AS int)) AS anon_nonjs_edits,\n",
    "  SUM(CAST(user_id!=0 and ready_action='ready' AS int)) AS logged_js_edits,\n",
    "  SUM(CAST(user_id=0 and ready_action='ready' AS int)) AS anon_js_edits,\n",
    "  SUM(CAST(ready_action is null AS int)) AS all_nonjs_edits,\n",
    "  SUM(CAST(ready_action='ready' AS int)) AS all_js_edits\n",
    "\n",
    "FROM (\n",
    "  SELECT \n",
    "    user_id AS user_id , \n",
    "    ss_session_id AS ss_session_id,\n",
    "    editing_interface,\n",
    "    ready_action \n",
    "  FROM saveSuccess_sessions ss  \n",
    "  LEFT JOIN ready_sessions ON ss.ss_session_id = ready_sessions.ready_session_id \n",
    "  --WHERE ready_sessions.ready_session_id IS NULL  \n",
    "        \n",
    "  GROUP BY ss.user_id, \n",
    "    ss.ss_session_id, \n",
    "    ss.editing_interface,\n",
    "    ready_sessions.ready_action\n",
    "    ) edit_sessions\n",
    "\n",
    "GROUP BY editing_interface    \n",
    "'''"
   ]
  },
  {
   "cell_type": "code",
   "execution_count": 81,
   "metadata": {},
   "outputs": [],
   "source": [
    "edit_interface_sessions_2019= hive.run(\n",
    "    [\n",
    "        \"SET mapreduce.map.memory.mb=4096\", \n",
    "        \"SET hive.mapred.mode=nonstrict\",\n",
    "        edit_interface_query_2019 \n",
    "    ]\n",
    ")\n"
   ]
  },
  {
   "cell_type": "code",
   "execution_count": 89,
   "metadata": {},
   "outputs": [
    {
     "data": {
      "text/html": [
       "<div>\n",
       "<style scoped>\n",
       "    .dataframe tbody tr th:only-of-type {\n",
       "        vertical-align: middle;\n",
       "    }\n",
       "\n",
       "    .dataframe tbody tr th {\n",
       "        vertical-align: top;\n",
       "    }\n",
       "\n",
       "    .dataframe thead th {\n",
       "        text-align: right;\n",
       "    }\n",
       "</style>\n",
       "<table border=\"1\" class=\"dataframe\">\n",
       "  <thead>\n",
       "    <tr style=\"text-align: right;\">\n",
       "      <th></th>\n",
       "      <th>editing_interface</th>\n",
       "      <th>logged_nonjs_edits</th>\n",
       "      <th>anon_nonjs_edits</th>\n",
       "      <th>logged_js_edits</th>\n",
       "      <th>anon_js_edits</th>\n",
       "      <th>all_nonjs_edits</th>\n",
       "      <th>all_js_edits</th>\n",
       "    </tr>\n",
       "  </thead>\n",
       "  <tbody>\n",
       "    <tr>\n",
       "      <th>0</th>\n",
       "      <td>visualeditor</td>\n",
       "      <td>16445</td>\n",
       "      <td>7898</td>\n",
       "      <td>372427</td>\n",
       "      <td>186791</td>\n",
       "      <td>24343</td>\n",
       "      <td>559218</td>\n",
       "    </tr>\n",
       "    <tr>\n",
       "      <th>1</th>\n",
       "      <td>wikitext</td>\n",
       "      <td>1644055</td>\n",
       "      <td>203088</td>\n",
       "      <td>3521362</td>\n",
       "      <td>1052300</td>\n",
       "      <td>1847143</td>\n",
       "      <td>4573662</td>\n",
       "    </tr>\n",
       "    <tr>\n",
       "      <th>2</th>\n",
       "      <td>wikitext-2017</td>\n",
       "      <td>5092</td>\n",
       "      <td>0</td>\n",
       "      <td>105026</td>\n",
       "      <td>21</td>\n",
       "      <td>5092</td>\n",
       "      <td>105047</td>\n",
       "    </tr>\n",
       "  </tbody>\n",
       "</table>\n",
       "</div>"
      ],
      "text/plain": [
       "  editing_interface  logged_nonjs_edits  anon_nonjs_edits  logged_js_edits  \\\n",
       "0      visualeditor               16445              7898           372427   \n",
       "1          wikitext             1644055            203088          3521362   \n",
       "2     wikitext-2017                5092                 0           105026   \n",
       "\n",
       "   anon_js_edits  all_nonjs_edits  all_js_edits  \n",
       "0         186791            24343        559218  \n",
       "1        1052300          1847143       4573662  \n",
       "2             21             5092        105047  "
      ]
     },
     "execution_count": 89,
     "metadata": {},
     "output_type": "execute_result"
    }
   ],
   "source": [
    "edit_interface_sessions_2019"
   ]
  },
  {
   "cell_type": "code",
   "execution_count": 90,
   "metadata": {},
   "outputs": [],
   "source": [
    "edit_interface_sessions_2019=edit_interface_sessions_2019.set_index('editing_interface')"
   ]
  },
  {
   "cell_type": "code",
   "execution_count": 91,
   "metadata": {},
   "outputs": [
    {
     "name": "stdout",
     "output_type": "stream",
     "text": [
      "Snapshot % of user edits done with no JS support in 2019 : editing_interface\n",
      "visualeditor      4.228898\n",
      "wikitext         31.828118\n",
      "wikitext-2017     4.624130\n",
      "dtype: float64\n"
     ]
    }
   ],
   "source": [
    "print ('Snapshot % of user edits done with no JS support in 2019 :',\n",
    "       (100* (edit_interface_sessions_2019['logged_nonjs_edits'] / \n",
    "              ( edit_interface_sessions_2019['logged_js_edits'] + edit_interface_sessions_2019['logged_nonjs_edits'])))\n",
    "      )"
   ]
  },
  {
   "cell_type": "code",
   "execution_count": 98,
   "metadata": {},
   "outputs": [
    {
     "name": "stdout",
     "output_type": "stream",
     "text": [
      "Snapshot % of anon edits done with no JS support in 2019: editing_interface\n",
      "visualeditor      4.056726\n",
      "wikitext         16.177309\n",
      "wikitext-2017     0.000000\n",
      "dtype: float64\n"
     ]
    }
   ],
   "source": [
    "print ('Snapshot % of anon edits done with no JS support in 2019:',\n",
    "       (100* (edit_interface_sessions_2019['anon_nonjs_edits'] / \n",
    "              ( edit_interface_sessions_2019['anon_js_edits'] + edit_interface_sessions_2019['anon_nonjs_edits'])))\n",
    "      )"
   ]
  },
  {
   "cell_type": "code",
   "execution_count": 99,
   "metadata": {},
   "outputs": [
    {
     "name": "stdout",
     "output_type": "stream",
     "text": [
      "Snapshot % of all edits done with no JS support in 2019: editing_interface\n",
      "visualeditor      4.171458\n",
      "wikitext         28.768091\n",
      "wikitext-2017     4.623249\n",
      "dtype: float64\n"
     ]
    }
   ],
   "source": [
    "print ('Snapshot % of all edits done with no JS support in 2019:',\n",
    "       (100* (edit_interface_sessions_2019['all_nonjs_edits'] / \n",
    "              ( edit_interface_sessions_2019['all_js_edits'] + edit_interface_sessions_2019['all_nonjs_edits'])))\n",
    "      )"
   ]
  },
  {
   "cell_type": "code",
   "execution_count": null,
   "metadata": {},
   "outputs": [],
   "source": []
  }
 ],
 "metadata": {
  "kernelspec": {
   "display_name": "Python 3",
   "language": "python",
   "name": "python3"
  },
  "language_info": {
   "codemirror_mode": {
    "name": "ipython",
    "version": 3
   },
   "file_extension": ".py",
   "mimetype": "text/x-python",
   "name": "python",
   "nbconvert_exporter": "python",
   "pygments_lexer": "ipython3",
   "version": "3.7.3"
  }
 },
 "nbformat": 4,
 "nbformat_minor": 4
}
