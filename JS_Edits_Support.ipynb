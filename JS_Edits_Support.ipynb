{
 "cells": [
  {
   "cell_type": "markdown",
   "metadata": {},
   "source": [
    "# Measure % of edits coming from users without JS [T240697](https://phabricator.wikimedia.org/T240697)"
   ]
  },
  {
   "cell_type": "markdown",
   "metadata": {},
   "source": [
    "We need to find out how many people are editing with no JS support (either in a browser that doesn't have JS support, or a regular browser with JS turned off). See the parent task for more info [T234695](https://phabricator.wikimedia.org/T234695) . We just need some ballpark numbers here, sampling is fine.  \n",
    "\n",
    "### Results : For the year 2020 :  \n",
    " - snapshot % of user edits done with no JS support : **26.74 %**\n",
    " - snapshot % of anon edits done with no JS support :  **12.79 %**   \n",
    " - snapshot % of all edits done with no JS support :  **24.08 %**  \n",
    " \n",
    "\n",
    "### Results : For the year 2019 :  \n",
    " - snapshot % of user edits done with no JS support : **28.92 %**\n",
    " - snapshot % of anon edits done with no JS support :  **13.98 %**   \n",
    " - snapshot % of all edits done with no JS support :  **25.83 %**  \n",
    " \n",
    "``\n",
    "The listed percentages on non-JS editors are much higher than expected indicating that a large portion of these users have ad-blockers installed and/or enabled DNT. As a result, we don't think this data is useful in determining the percentage of non-JS users and we would recommend looking at adding instrumentation if more accurate numbers are needed.\n",
    "``"
   ]
  },
  {
   "cell_type": "markdown",
   "metadata": {},
   "source": [
    "### Breakdown by Editor Interface\n",
    "    \n",
    "    \n",
    "\n",
    "| Year | Editor Type | Snapshot % of non-JS user edits |Snapshot % of non-JS anonymous edits |Snapshot % of all non-JS edits |\n",
    "| -| -|-|-|-|\n",
    "| 2020 |visualeditor | 0.02 % |0.017 % |0.019 % |\n",
    "| 2020 |wikitext | 29.88 % |14.9 % |27.12 % |\n",
    "| 2020 |wikitext-2017  | 0.03 % |0.0 % |0.03 % |\n",
    "| -| -|-|-|-|\n",
    "| 2019 |visualeditor | 0.1 % |0.05 % |0.08 % |\n",
    "| 2019 |wikitext | 31.66 % |16.06 % |28.56 % |\n",
    "| 2019 |wikitext-2017  | 0.03 % |0.0 % |0.03 % |\n",
    "\n",
    "\n",
    "\n",
    "### The no-JS edit proportions by editing interfaces raises some interesting observations and questions :    \n",
    "1. The wikitext-2017 editor is a turn-on beta preference hence the anonymous non-JS edits made with it is rightly 0%\n",
    "2. We have excluded all oversampled sessions from editattemptstep to obtain these results. \n",
    "3. These proportions may not apply equitably to all Wikis.\n",
    "4. With the assumption that VisualEditor always requires JS to load and enable editing, could the small proportion of non-JS edits for VE that we see above be indicative of users who have blocked Client-side eventlogging ?      \n",
    "5. Based on our understanding of how the events are recorded and [schema documentation](https://meta.wikimedia.org/wiki/Schema:EditAttemptStep), this approach should really only work for the wikitext editor. A breakdown per platform helps clarify these numbers and confirms that there is only a small percentage for VisualEditor which might be users with DNT enabled. \n",
    "\n"
   ]
  },
  {
   "cell_type": "code",
   "execution_count": 1,
   "metadata": {},
   "outputs": [
    {
     "name": "stderr",
     "output_type": "stream",
     "text": [
      "You are using wmfdata v1.0.1, but v1.0.3 is available.\n",
      "\n",
      "To update, run `pip install --upgrade git+https://github.com/neilpquinn/wmfdata/wmfdata.git@release`.\n",
      "\n",
      "To see the changes, refer to https://github.com/neilpquinn/wmfdata/blob/release/CHANGELOG.md\n"
     ]
    }
   ],
   "source": [
    "import matplotlib.pyplot as plt\n",
    "from matplotlib.ticker import StrMethodFormatter\n",
    "import numpy as np\n",
    "import pandas as pd\n",
    "from tabulate import tabulate\n",
    "from wmfdata import charting, hive, mariadb\n",
    "from wmfdata.charting import comma_fmt, pct_fmt\n",
    "from wmfdata.utils import df_to_remarkup, pct_str"
   ]
  },
  {
   "cell_type": "markdown",
   "metadata": {},
   "source": [
    "Based on discussions with R Kaldari and D Lynch here are the recommended steps that could be used to answer each of the 3 questions in the task description:  \n",
    "\n",
    "Snapshot % of user edits done with no JS support:  \n",
    "Within a specific timespan, take:  \n",
    "number of sessions where user_id !== 0, integration === page, actions include init, saveSuccess, and not ready.  \n",
    "Divide by:  \n",
    "number of sessions where user_id !== 0, integration === page, actions include init, ready, and saveSuccess.\n",
    "\n",
    "Snapshot % of anon edits done with no JS support:  \n",
    "Within a specific timespan, take:  \n",
    "number of sessions where user_id === 0, integration === page, actions include init, saveSuccess, and not ready.  \n",
    "Divide by:  \n",
    "number of sessions where user_id === 0, integration === page, actions include init, ready, and saveSuccess.  \n",
    "\n",
    "Snapshot % of all edits done with no JS support:  \n",
    "Within a specific timespan, take:  \n",
    "number of sessions where integration === page, actions include init, saveSuccess, and not ready.  \n",
    "Divide by:  \n",
    "number of sessions where integration === page, actions include init, ready, and saveSuccess.  \n",
    "\n",
    "Note that I've decided not to worry about which editor the user is using (editor_interface), which should simplify things a bit.\n",
    "\n",
    "\n"
   ]
  },
  {
   "cell_type": "code",
   "execution_count": 6,
   "metadata": {},
   "outputs": [],
   "source": [
    "edit_sessions_query_2020= '''\n",
    "\n",
    "-- We are only interested in sessions with saveSuccess events i.e. saved edits -- \n",
    "\n",
    "WITH saveSuccess_sessions as (\n",
    "SELECT distinct event.editing_session_id AS ss_session_id,\n",
    "  event.user_id AS user_id\n",
    "FROM event_sanitized.editattemptstep\n",
    "WHERE event.integration = 'page' \n",
    "  AND year = 2020  \n",
    "  AND NOT event.is_oversample -- Taking out Oversampled edits\n",
    "  AND event.action = 'saveSuccess' \n",
    "), \n",
    "\n",
    "init_sessions as (\n",
    "SELECT event.editing_session_id AS init_session_id,\n",
    "  event.action as init_action\n",
    "FROM event_sanitized.editattemptstep eas\n",
    "WHERE event.integration = 'page' \n",
    "  AND year = 2020  \n",
    "  AND event.action='init'\n",
    "),\n",
    "\n",
    "-- Now we will use 'Ready' events to sessions without identify user edits done with no JS support -- \n",
    "\n",
    "ready_sessions as (\n",
    "SELECT event.editing_session_id AS ready_session_id ,\n",
    "  event.action as ready_action\n",
    "FROM event_sanitized.editattemptstep eas\n",
    "WHERE event.integration = 'page' \n",
    "  AND year = 2020  \n",
    "  AND event.action='ready'\n",
    ")\n",
    "\n",
    "\n",
    "-- Main Query -- \n",
    "SELECT\n",
    "  SUM(CAST(user_id!=0 AND ready_action is null AND init_action = 'init' AS int)) AS user_nonjs_edits,\n",
    "  SUM(CAST(user_id=0 and ready_action is null AND init_action = 'init' AS int)) AS anon_nonjs_edits,\n",
    "  SUM(CAST(user_id!=0 and ready_action='ready' AND init_action = 'init'  AS int)) AS user_js_edits,\n",
    "  SUM(CAST(user_id=0 and ready_action='ready' AND init_action = 'init'  AS int)) AS anon_js_edits,\n",
    "  SUM(CAST(ready_action is null AND init_action = 'init' AS int)) AS all_nonjs_edits,\n",
    "  SUM(CAST(ready_action='ready' AND init_action = 'init' AS int)) AS all_js_edits\n",
    "\n",
    "FROM (\n",
    "  SELECT \n",
    "    user_id AS user_id , \n",
    "    ss_session_id AS ss_session_id,\n",
    "    ready_action ,\n",
    "    init_action\n",
    "  FROM saveSuccess_sessions ss  \n",
    "  LEFT JOIN ready_sessions ON ss.ss_session_id = ready_sessions.ready_session_id\n",
    "  LEFT JOIN init_sessions ON ss.ss_session_id = init_sessions.init_session_id\n",
    "\n",
    "        \n",
    "  GROUP BY ss.user_id, \n",
    "    ss.ss_session_id, \n",
    "    ready_sessions.ready_action,\n",
    "    init_sessions.init_action\n",
    "\n",
    "    ) edit_sessions\n",
    "'''"
   ]
  },
  {
   "cell_type": "code",
   "execution_count": 7,
   "metadata": {},
   "outputs": [],
   "source": [
    "edit_sessions_2020= hive.run(\n",
    "    [\n",
    "        \"SET mapreduce.map.memory.mb=4096\", \n",
    "        \"SET hive.mapred.mode=nonstrict\",\n",
    "        edit_sessions_query_2020 \n",
    "    ]\n",
    ")\n",
    "\n"
   ]
  },
  {
   "cell_type": "markdown",
   "metadata": {},
   "source": [
    "Count of JS and non-JS edits with the assumption that -    \n",
    "nonJS edits : number of sessions where event actions include init, saveSuccess, and not ready.     \n",
    "JS edits : number of sessions where actions include init, ready, and saveSuccess.\n"
   ]
  },
  {
   "cell_type": "code",
   "execution_count": 8,
   "metadata": {},
   "outputs": [
    {
     "data": {
      "text/html": [
       "<div>\n",
       "<style scoped>\n",
       "    .dataframe tbody tr th:only-of-type {\n",
       "        vertical-align: middle;\n",
       "    }\n",
       "\n",
       "    .dataframe tbody tr th {\n",
       "        vertical-align: top;\n",
       "    }\n",
       "\n",
       "    .dataframe thead th {\n",
       "        text-align: right;\n",
       "    }\n",
       "</style>\n",
       "<table border=\"1\" class=\"dataframe\">\n",
       "  <thead>\n",
       "    <tr style=\"text-align: right;\">\n",
       "      <th></th>\n",
       "      <th>user_nonjs_edits</th>\n",
       "      <th>anon_nonjs_edits</th>\n",
       "      <th>user_js_edits</th>\n",
       "      <th>anon_js_edits</th>\n",
       "      <th>all_nonjs_edits</th>\n",
       "      <th>all_js_edits</th>\n",
       "    </tr>\n",
       "  </thead>\n",
       "  <tbody>\n",
       "    <tr>\n",
       "      <th>0</th>\n",
       "      <td>767423</td>\n",
       "      <td>86502</td>\n",
       "      <td>2101643</td>\n",
       "      <td>589680</td>\n",
       "      <td>853925</td>\n",
       "      <td>2691323</td>\n",
       "    </tr>\n",
       "  </tbody>\n",
       "</table>\n",
       "</div>"
      ],
      "text/plain": [
       "   user_nonjs_edits  anon_nonjs_edits  user_js_edits  anon_js_edits  \\\n",
       "0            767423             86502        2101643         589680   \n",
       "\n",
       "   all_nonjs_edits  all_js_edits  \n",
       "0           853925       2691323  "
      ]
     },
     "execution_count": 8,
     "metadata": {},
     "output_type": "execute_result"
    }
   ],
   "source": [
    "edit_sessions_2020"
   ]
  },
  {
   "cell_type": "markdown",
   "metadata": {},
   "source": [
    "### If we're interested in knowing the proportion of non-JS edits we should be dividing the number of non-JS edits by the sum of JS and non-JS edits"
   ]
  },
  {
   "cell_type": "code",
   "execution_count": 10,
   "metadata": {},
   "outputs": [
    {
     "name": "stdout",
     "output_type": "stream",
     "text": [
      "Snapshot % of user edits done with no JS support in 2020:  0    26.748182\n",
      "dtype: float64\n"
     ]
    }
   ],
   "source": [
    "print ('Snapshot % of user edits done with no JS support in 2020: ',\n",
    "       (100* (edit_sessions_2020['user_nonjs_edits'] / \n",
    "              ( edit_sessions_2020['user_js_edits'] + edit_sessions_2020['user_nonjs_edits'])))\n",
    "      )"
   ]
  },
  {
   "cell_type": "code",
   "execution_count": 11,
   "metadata": {},
   "outputs": [
    {
     "name": "stdout",
     "output_type": "stream",
     "text": [
      "Snapshot % of anon edits done with no JS support in 2020: 0    12.79271\n",
      "dtype: float64\n"
     ]
    }
   ],
   "source": [
    "print ('Snapshot % of anon edits done with no JS support in 2020:',\n",
    "       (100* (edit_sessions_2020['anon_nonjs_edits'] / \n",
    "              ( edit_sessions_2020['anon_js_edits'] + edit_sessions_2020['anon_nonjs_edits'])))\n",
    "      )"
   ]
  },
  {
   "cell_type": "code",
   "execution_count": 12,
   "metadata": {},
   "outputs": [
    {
     "name": "stdout",
     "output_type": "stream",
     "text": [
      "Snapshot % of all edits done with no JS support in 2020: 0    24.086467\n",
      "dtype: float64\n"
     ]
    }
   ],
   "source": [
    "print ('Snapshot % of all edits done with no JS support in 2020:',\n",
    "       (100* (edit_sessions_2020['all_nonjs_edits'] / \n",
    "              ( edit_sessions_2020['all_js_edits'] + edit_sessions_2020['all_nonjs_edits'])))\n",
    "      )"
   ]
  },
  {
   "cell_type": "markdown",
   "metadata": {},
   "source": [
    "**Now lets look at similar numbers from 2019**"
   ]
  },
  {
   "cell_type": "code",
   "execution_count": 13,
   "metadata": {},
   "outputs": [],
   "source": [
    "edit_sessions_query_2019= '''\n",
    "\n",
    "-- We are only interested in sessions with saveSuccess events i.e. saved edits -- \n",
    "\n",
    "WITH saveSuccess_sessions as (\n",
    "SELECT distinct event.editing_session_id AS ss_session_id,\n",
    "  event.user_id AS user_id\n",
    "FROM event_sanitized.editattemptstep\n",
    "WHERE event.integration = 'page' \n",
    "  AND year = 2019  \n",
    "  AND NOT event.is_oversample -- Taking out Oversampled edits\n",
    "  AND event.action = 'saveSuccess' \n",
    "), \n",
    "\n",
    "init_sessions as (\n",
    "SELECT event.editing_session_id AS init_session_id,\n",
    "  event.action as init_action\n",
    "FROM event_sanitized.editattemptstep eas\n",
    "WHERE event.integration = 'page' \n",
    "  AND year = 2019  \n",
    "  AND event.action='init'\n",
    "),\n",
    "\n",
    "-- Now we will use 'Ready' events to sessions without identify user edits done with no JS support -- \n",
    "\n",
    "ready_sessions as (\n",
    "SELECT event.editing_session_id AS ready_session_id ,\n",
    "  event.action as ready_action\n",
    "FROM event_sanitized.editattemptstep eas\n",
    "WHERE event.integration = 'page' \n",
    "  AND year = 2019  \n",
    "  AND event.action='ready'\n",
    ")\n",
    "\n",
    "\n",
    "-- Main Query -- \n",
    "SELECT\n",
    "  SUM(CAST(user_id!=0 AND ready_action is null AND init_action = 'init' AS int)) AS user_nonjs_edits,\n",
    "  SUM(CAST(user_id=0 and ready_action is null AND init_action = 'init' AS int)) AS anon_nonjs_edits,\n",
    "  SUM(CAST(user_id!=0 and ready_action='ready' AND init_action = 'init'  AS int)) AS user_js_edits,\n",
    "  SUM(CAST(user_id=0 and ready_action='ready' AND init_action = 'init'  AS int)) AS anon_js_edits,\n",
    "  SUM(CAST(ready_action is null AND init_action = 'init' AS int)) AS all_nonjs_edits,\n",
    "  SUM(CAST(ready_action='ready' AND init_action = 'init' AS int)) AS all_js_edits\n",
    "\n",
    "FROM (\n",
    "  SELECT \n",
    "    user_id AS user_id , \n",
    "    ss_session_id AS ss_session_id,\n",
    "    ready_action ,\n",
    "    init_action\n",
    "  FROM saveSuccess_sessions ss  \n",
    "  LEFT JOIN ready_sessions ON ss.ss_session_id = ready_sessions.ready_session_id\n",
    "  LEFT JOIN init_sessions ON ss.ss_session_id = init_sessions.init_session_id\n",
    "\n",
    "        \n",
    "  GROUP BY ss.user_id, \n",
    "    ss.ss_session_id, \n",
    "    ready_sessions.ready_action,\n",
    "    init_sessions.init_action\n",
    "\n",
    "    ) edit_sessions\n",
    "'''"
   ]
  },
  {
   "cell_type": "code",
   "execution_count": 14,
   "metadata": {},
   "outputs": [],
   "source": [
    " edit_sessions_2019= hive.run(\n",
    "    [\n",
    "        \"SET mapreduce.map.memory.mb=4096\", \n",
    "        \"SET hive.mapred.mode=nonstrict\",\n",
    "        edit_sessions_query_2019\n",
    "    ]\n",
    ")\n",
    "\n"
   ]
  },
  {
   "cell_type": "code",
   "execution_count": 15,
   "metadata": {},
   "outputs": [
    {
     "data": {
      "text/html": [
       "<div>\n",
       "<style scoped>\n",
       "    .dataframe tbody tr th:only-of-type {\n",
       "        vertical-align: middle;\n",
       "    }\n",
       "\n",
       "    .dataframe tbody tr th {\n",
       "        vertical-align: top;\n",
       "    }\n",
       "\n",
       "    .dataframe thead th {\n",
       "        text-align: right;\n",
       "    }\n",
       "</style>\n",
       "<table border=\"1\" class=\"dataframe\">\n",
       "  <thead>\n",
       "    <tr style=\"text-align: right;\">\n",
       "      <th></th>\n",
       "      <th>user_nonjs_edits</th>\n",
       "      <th>anon_nonjs_edits</th>\n",
       "      <th>user_js_edits</th>\n",
       "      <th>anon_js_edits</th>\n",
       "      <th>all_nonjs_edits</th>\n",
       "      <th>all_js_edits</th>\n",
       "    </tr>\n",
       "  </thead>\n",
       "  <tbody>\n",
       "    <tr>\n",
       "      <th>0</th>\n",
       "      <td>1594988</td>\n",
       "      <td>200541</td>\n",
       "      <td>3919261</td>\n",
       "      <td>1233940</td>\n",
       "      <td>1795529</td>\n",
       "      <td>5153201</td>\n",
       "    </tr>\n",
       "  </tbody>\n",
       "</table>\n",
       "</div>"
      ],
      "text/plain": [
       "   user_nonjs_edits  anon_nonjs_edits  user_js_edits  anon_js_edits  \\\n",
       "0           1594988            200541        3919261        1233940   \n",
       "\n",
       "   all_nonjs_edits  all_js_edits  \n",
       "0          1795529       5153201  "
      ]
     },
     "execution_count": 15,
     "metadata": {},
     "output_type": "execute_result"
    }
   ],
   "source": [
    "edit_sessions_2019"
   ]
  },
  {
   "cell_type": "code",
   "execution_count": 16,
   "metadata": {},
   "outputs": [
    {
     "name": "stdout",
     "output_type": "stream",
     "text": [
      "Snapshot % of user edits done with no JS support in 2019 : 0    28.924845\n",
      "dtype: float64\n"
     ]
    }
   ],
   "source": [
    "print ('Snapshot % of user edits done with no JS support in 2019 :',\n",
    "       (100* (edit_sessions_2019['user_nonjs_edits'] / \n",
    "              ( edit_sessions_2019['user_js_edits'] + edit_sessions_2019['user_nonjs_edits'])))\n",
    "      )"
   ]
  },
  {
   "cell_type": "code",
   "execution_count": 17,
   "metadata": {},
   "outputs": [
    {
     "name": "stdout",
     "output_type": "stream",
     "text": [
      "Snapshot % of anon edits done with no JS support in 2019 : 0    13.980039\n",
      "dtype: float64\n"
     ]
    }
   ],
   "source": [
    "print ('Snapshot % of anon edits done with no JS support in 2019 :',\n",
    "       (100* (edit_sessions_2019['anon_nonjs_edits'] / \n",
    "              ( edit_sessions_2019['anon_js_edits'] + edit_sessions_2019['anon_nonjs_edits'])))\n",
    "      )"
   ]
  },
  {
   "cell_type": "code",
   "execution_count": 18,
   "metadata": {},
   "outputs": [
    {
     "name": "stdout",
     "output_type": "stream",
     "text": [
      "Snapshot % of all edits done with no JS support in 2019 : 0    25.839671\n",
      "dtype: float64\n"
     ]
    }
   ],
   "source": [
    "print ('Snapshot % of all edits done with no JS support in 2019 :',\n",
    "       (100* (edit_sessions_2019['all_nonjs_edits'] / \n",
    "              ( edit_sessions_2019['all_js_edits'] + edit_sessions_2019['all_nonjs_edits'])))\n",
    "      )"
   ]
  },
  {
   "cell_type": "markdown",
   "metadata": {},
   "source": [
    "Based on our understanding of how the events are recorded and [schema documentation](https://meta.wikimedia.org/wiki/Schema:EditAttemptStep), the above approach should really only work for the wikitext editor.  \n",
    "**Hence a breakdown of each editing interface helps clarify these numbers though and confirms that there is only a small percentage for VisualEditor which might be users with DNT enabled).**"
   ]
  },
  {
   "cell_type": "markdown",
   "metadata": {},
   "source": [
    "## non-JS edits proportion by editing interface\n",
    "### For the year 2020"
   ]
  },
  {
   "cell_type": "code",
   "execution_count": 19,
   "metadata": {},
   "outputs": [],
   "source": [
    "edit_interface_query_2020= '''\n",
    "\n",
    "-- We are only interested in sessions with saveSuccess events i.e. saved edits -- \n",
    "\n",
    "WITH saveSuccess_sessions as (\n",
    "SELECT distinct event.editing_session_id AS ss_session_id,\n",
    "  event.user_id AS user_id, \n",
    "  event.editor_interface AS editing_interface\n",
    "FROM event_sanitized.editattemptstep\n",
    "WHERE event.integration = 'page' \n",
    "  AND year = 2020  \n",
    "  AND NOT event.is_oversample -- Taking out Oversampled edits\n",
    "  AND event.action = 'saveSuccess' \n",
    "), \n",
    "\n",
    "init_sessions as (\n",
    "SELECT event.editing_session_id AS init_session_id,\n",
    "  event.action as init_action\n",
    "FROM event_sanitized.editattemptstep eas\n",
    "WHERE event.integration = 'page' \n",
    "  AND year = 2020  \n",
    "  AND event.action='init'\n",
    "),\n",
    "\n",
    "-- Now we will use sessions without 'Ready' events to identify user edits done with no JS support -- \n",
    "\n",
    "ready_sessions as (\n",
    "SELECT event.editing_session_id AS ready_session_id ,\n",
    "  event.action as ready_action\n",
    "FROM event_sanitized.editattemptstep eas\n",
    "WHERE event.integration = 'page' \n",
    "  AND year = 2020  \n",
    "  AND event.action='ready'\n",
    ")\n",
    "\n",
    "-- Main Query -- \n",
    "SELECT\n",
    "  editing_interface AS editing_interface,  \n",
    "  SUM(CAST(user_id!=0 AND ready_action is null AND init_action = 'init' AS int)) AS user_nonjs_edits,\n",
    "  SUM(CAST(user_id=0 and ready_action is null AND init_action = 'init' AS int)) AS anon_nonjs_edits,\n",
    "  SUM(CAST(user_id!=0 and ready_action='ready' AND init_action = 'init' AS int)) AS user_js_edits,\n",
    "  SUM(CAST(user_id=0 and ready_action='ready' AND init_action = 'init' AS int)) AS anon_js_edits,\n",
    "  SUM(CAST(ready_action is null AND init_action = 'init' AS int)) AS all_nonjs_edits,\n",
    "  SUM(CAST(ready_action='ready' AND init_action = 'init' AS int)) AS all_js_edits\n",
    "\n",
    "FROM (\n",
    "  SELECT \n",
    "    user_id AS user_id , \n",
    "    ss_session_id AS ss_session_id,\n",
    "    editing_interface,\n",
    "    ready_action ,\n",
    "    init_action\n",
    "  FROM saveSuccess_sessions ss  \n",
    "  LEFT JOIN ready_sessions ON ss.ss_session_id = ready_sessions.ready_session_id \n",
    "  LEFT JOIN init_sessions ON ss.ss_session_id = init_sessions.init_session_id\n",
    "        \n",
    "  GROUP BY ss.user_id, \n",
    "    ss.ss_session_id, \n",
    "    ss.editing_interface,\n",
    "    ready_sessions.ready_action,\n",
    "    init_sessions.init_action\n",
    "    ) edit_sessions\n",
    "\n",
    "GROUP BY editing_interface    \n",
    "'''"
   ]
  },
  {
   "cell_type": "code",
   "execution_count": 21,
   "metadata": {},
   "outputs": [],
   "source": [
    "edit_interface_sessions_2020= hive.run(\n",
    "    [\n",
    "        \"SET mapreduce.map.memory.mb=4096\", \n",
    "        \"SET hive.mapred.mode=nonstrict\",\n",
    "        edit_interface_query_2020 \n",
    "    ]\n",
    ")\n"
   ]
  },
  {
   "cell_type": "code",
   "execution_count": 22,
   "metadata": {},
   "outputs": [
    {
     "data": {
      "text/html": [
       "<div>\n",
       "<style scoped>\n",
       "    .dataframe tbody tr th:only-of-type {\n",
       "        vertical-align: middle;\n",
       "    }\n",
       "\n",
       "    .dataframe tbody tr th {\n",
       "        vertical-align: top;\n",
       "    }\n",
       "\n",
       "    .dataframe thead th {\n",
       "        text-align: right;\n",
       "    }\n",
       "</style>\n",
       "<table border=\"1\" class=\"dataframe\">\n",
       "  <thead>\n",
       "    <tr style=\"text-align: right;\">\n",
       "      <th></th>\n",
       "      <th>editing_interface</th>\n",
       "      <th>user_nonjs_edits</th>\n",
       "      <th>anon_nonjs_edits</th>\n",
       "      <th>user_js_edits</th>\n",
       "      <th>anon_js_edits</th>\n",
       "      <th>all_nonjs_edits</th>\n",
       "      <th>all_js_edits</th>\n",
       "    </tr>\n",
       "  </thead>\n",
       "  <tbody>\n",
       "    <tr>\n",
       "      <th>0</th>\n",
       "      <td>visualeditor</td>\n",
       "      <td>48</td>\n",
       "      <td>17</td>\n",
       "      <td>235233</td>\n",
       "      <td>96887</td>\n",
       "      <td>65</td>\n",
       "      <td>332120</td>\n",
       "    </tr>\n",
       "    <tr>\n",
       "      <th>1</th>\n",
       "      <td>wikitext</td>\n",
       "      <td>767978</td>\n",
       "      <td>86532</td>\n",
       "      <td>1801464</td>\n",
       "      <td>493867</td>\n",
       "      <td>854510</td>\n",
       "      <td>2295331</td>\n",
       "    </tr>\n",
       "    <tr>\n",
       "      <th>2</th>\n",
       "      <td>wikitext-2017</td>\n",
       "      <td>21</td>\n",
       "      <td>0</td>\n",
       "      <td>68999</td>\n",
       "      <td>10</td>\n",
       "      <td>21</td>\n",
       "      <td>69009</td>\n",
       "    </tr>\n",
       "  </tbody>\n",
       "</table>\n",
       "</div>"
      ],
      "text/plain": [
       "  editing_interface  user_nonjs_edits  anon_nonjs_edits  user_js_edits  \\\n",
       "0      visualeditor                48                17         235233   \n",
       "1          wikitext            767978             86532        1801464   \n",
       "2     wikitext-2017                21                 0          68999   \n",
       "\n",
       "   anon_js_edits  all_nonjs_edits  all_js_edits  \n",
       "0          96887               65        332120  \n",
       "1         493867           854510       2295331  \n",
       "2             10               21         69009  "
      ]
     },
     "execution_count": 22,
     "metadata": {},
     "output_type": "execute_result"
    }
   ],
   "source": [
    "edit_interface_sessions_2020"
   ]
  },
  {
   "cell_type": "code",
   "execution_count": 23,
   "metadata": {},
   "outputs": [],
   "source": [
    "edit_interface_sessions_2020=edit_interface_sessions_2020.set_index('editing_interface')"
   ]
  },
  {
   "cell_type": "code",
   "execution_count": 25,
   "metadata": {},
   "outputs": [
    {
     "name": "stdout",
     "output_type": "stream",
     "text": [
      "Snapshot % of user edits done with no JS support in 2020 : editing_interface\n",
      "visualeditor      0.020401\n",
      "wikitext         29.888902\n",
      "wikitext-2017     0.030426\n",
      "dtype: float64\n"
     ]
    }
   ],
   "source": [
    "print ('Snapshot % of user edits done with no JS support in 2020 :',\n",
    "       (100* (edit_interface_sessions_2020['user_nonjs_edits'] / \n",
    "              ( edit_interface_sessions_2020['user_js_edits'] + edit_interface_sessions_2020['user_nonjs_edits'])))\n",
    "      )"
   ]
  },
  {
   "cell_type": "code",
   "execution_count": 26,
   "metadata": {},
   "outputs": [
    {
     "name": "stdout",
     "output_type": "stream",
     "text": [
      "Snapshot % of anon edits done with no JS support in 2020: editing_interface\n",
      "visualeditor      0.017543\n",
      "wikitext         14.909054\n",
      "wikitext-2017     0.000000\n",
      "dtype: float64\n"
     ]
    }
   ],
   "source": [
    "print ('Snapshot % of anon edits done with no JS support in 2020:',\n",
    "       (100* (edit_interface_sessions_2020['anon_nonjs_edits'] / \n",
    "              ( edit_interface_sessions_2020['anon_js_edits'] + edit_interface_sessions_2020['anon_nonjs_edits'])))\n",
    "      )"
   ]
  },
  {
   "cell_type": "code",
   "execution_count": 27,
   "metadata": {},
   "outputs": [
    {
     "name": "stdout",
     "output_type": "stream",
     "text": [
      "Snapshot % of all edits done with no JS support in 2020: editing_interface\n",
      "visualeditor      0.019567\n",
      "wikitext         27.128671\n",
      "wikitext-2017     0.030422\n",
      "dtype: float64\n"
     ]
    }
   ],
   "source": [
    "print ('Snapshot % of all edits done with no JS support in 2020:',\n",
    "       (100* (edit_interface_sessions_2020['all_nonjs_edits'] / \n",
    "              ( edit_interface_sessions_2020['all_js_edits'] + edit_interface_sessions_2020['all_nonjs_edits'])))\n",
    "      )"
   ]
  },
  {
   "cell_type": "markdown",
   "metadata": {},
   "source": [
    "**Now let's look at the numbers for the year 2019**"
   ]
  },
  {
   "cell_type": "code",
   "execution_count": 28,
   "metadata": {},
   "outputs": [],
   "source": [
    "edit_interface_query_2019= '''\n",
    "\n",
    "-- We are only interested in sessions with saveSuccess events i.e. saved edits -- \n",
    "\n",
    "WITH saveSuccess_sessions as (\n",
    "SELECT distinct event.editing_session_id AS ss_session_id,\n",
    "  event.user_id AS user_id, \n",
    "  event.editor_interface AS editing_interface\n",
    "FROM event_sanitized.editattemptstep\n",
    "WHERE event.integration = 'page' \n",
    "  AND year = 2019  \n",
    "  AND NOT event.is_oversample -- Taking out Oversampled edits\n",
    "  AND event.action = 'saveSuccess' \n",
    "), \n",
    "\n",
    "init_sessions as (\n",
    "SELECT event.editing_session_id AS init_session_id,\n",
    "  event.action as init_action\n",
    "FROM event_sanitized.editattemptstep eas\n",
    "WHERE event.integration = 'page' \n",
    "  AND year = 2019  \n",
    "  AND event.action='init'\n",
    "),\n",
    "\n",
    "-- Now we will use sessions without 'Ready' events to identify user edits done with no JS support -- \n",
    "\n",
    "ready_sessions as (\n",
    "SELECT event.editing_session_id AS ready_session_id ,\n",
    "  event.action as ready_action\n",
    "FROM event_sanitized.editattemptstep eas\n",
    "WHERE event.integration = 'page' \n",
    "  AND year = 2019  \n",
    "  AND event.action='ready'\n",
    ")\n",
    "\n",
    "-- Main Query -- \n",
    "SELECT\n",
    "  editing_interface AS editing_interface,  \n",
    "  SUM(CAST(user_id!=0 AND ready_action is null AND init_action = 'init' AS int)) AS user_nonjs_edits,\n",
    "  SUM(CAST(user_id=0 and ready_action is null AND init_action = 'init' AS int)) AS anon_nonjs_edits,\n",
    "  SUM(CAST(user_id!=0 and ready_action='ready' AND init_action = 'init' AS int)) AS user_js_edits,\n",
    "  SUM(CAST(user_id=0 and ready_action='ready' AND init_action = 'init' AS int)) AS anon_js_edits,\n",
    "  SUM(CAST(ready_action is null AND init_action = 'init' AS int)) AS all_nonjs_edits,\n",
    "  SUM(CAST(ready_action='ready' AND init_action = 'init' AS int)) AS all_js_edits\n",
    "\n",
    "FROM (\n",
    "  SELECT \n",
    "    user_id AS user_id , \n",
    "    ss_session_id AS ss_session_id,\n",
    "    editing_interface,\n",
    "    ready_action ,\n",
    "    init_action\n",
    "  FROM saveSuccess_sessions ss  \n",
    "  LEFT JOIN ready_sessions ON ss.ss_session_id = ready_sessions.ready_session_id \n",
    "  LEFT JOIN init_sessions ON ss.ss_session_id = init_sessions.init_session_id\n",
    "        \n",
    "  GROUP BY ss.user_id, \n",
    "    ss.ss_session_id, \n",
    "    ss.editing_interface,\n",
    "    ready_sessions.ready_action,\n",
    "    init_sessions.init_action\n",
    "    ) edit_sessions\n",
    "\n",
    "GROUP BY editing_interface    \n",
    "'''"
   ]
  },
  {
   "cell_type": "code",
   "execution_count": 29,
   "metadata": {},
   "outputs": [],
   "source": [
    "edit_interface_sessions_2019= hive.run(\n",
    "    [\n",
    "        \"SET mapreduce.map.memory.mb=4096\", \n",
    "        \"SET hive.mapred.mode=nonstrict\",\n",
    "        edit_interface_query_2019 \n",
    "    ]\n",
    ")\n"
   ]
  },
  {
   "cell_type": "code",
   "execution_count": 30,
   "metadata": {},
   "outputs": [
    {
     "data": {
      "text/html": [
       "<div>\n",
       "<style scoped>\n",
       "    .dataframe tbody tr th:only-of-type {\n",
       "        vertical-align: middle;\n",
       "    }\n",
       "\n",
       "    .dataframe tbody tr th {\n",
       "        vertical-align: top;\n",
       "    }\n",
       "\n",
       "    .dataframe thead th {\n",
       "        text-align: right;\n",
       "    }\n",
       "</style>\n",
       "<table border=\"1\" class=\"dataframe\">\n",
       "  <thead>\n",
       "    <tr style=\"text-align: right;\">\n",
       "      <th></th>\n",
       "      <th>editing_interface</th>\n",
       "      <th>user_nonjs_edits</th>\n",
       "      <th>anon_nonjs_edits</th>\n",
       "      <th>user_js_edits</th>\n",
       "      <th>anon_js_edits</th>\n",
       "      <th>all_nonjs_edits</th>\n",
       "      <th>all_js_edits</th>\n",
       "    </tr>\n",
       "  </thead>\n",
       "  <tbody>\n",
       "    <tr>\n",
       "      <th>0</th>\n",
       "      <td>visualeditor</td>\n",
       "      <td>377</td>\n",
       "      <td>104</td>\n",
       "      <td>372382</td>\n",
       "      <td>186774</td>\n",
       "      <td>481</td>\n",
       "      <td>559156</td>\n",
       "    </tr>\n",
       "    <tr>\n",
       "      <th>1</th>\n",
       "      <td>wikitext</td>\n",
       "      <td>1594572</td>\n",
       "      <td>200437</td>\n",
       "      <td>3441877</td>\n",
       "      <td>1047145</td>\n",
       "      <td>1795009</td>\n",
       "      <td>4489022</td>\n",
       "    </tr>\n",
       "    <tr>\n",
       "      <th>2</th>\n",
       "      <td>wikitext-2017</td>\n",
       "      <td>39</td>\n",
       "      <td>0</td>\n",
       "      <td>105006</td>\n",
       "      <td>21</td>\n",
       "      <td>39</td>\n",
       "      <td>105027</td>\n",
       "    </tr>\n",
       "  </tbody>\n",
       "</table>\n",
       "</div>"
      ],
      "text/plain": [
       "  editing_interface  user_nonjs_edits  anon_nonjs_edits  user_js_edits  \\\n",
       "0      visualeditor               377               104         372382   \n",
       "1          wikitext           1594572            200437        3441877   \n",
       "2     wikitext-2017                39                 0         105006   \n",
       "\n",
       "   anon_js_edits  all_nonjs_edits  all_js_edits  \n",
       "0         186774              481        559156  \n",
       "1        1047145          1795009       4489022  \n",
       "2             21               39        105027  "
      ]
     },
     "execution_count": 30,
     "metadata": {},
     "output_type": "execute_result"
    }
   ],
   "source": [
    "edit_interface_sessions_2019"
   ]
  },
  {
   "cell_type": "code",
   "execution_count": 31,
   "metadata": {},
   "outputs": [],
   "source": [
    "edit_interface_sessions_2019=edit_interface_sessions_2019.set_index('editing_interface')"
   ]
  },
  {
   "cell_type": "code",
   "execution_count": 32,
   "metadata": {},
   "outputs": [
    {
     "name": "stdout",
     "output_type": "stream",
     "text": [
      "Snapshot % of user edits done with no JS support in 2019 : editing_interface\n",
      "visualeditor      0.101138\n",
      "wikitext         31.660640\n",
      "wikitext-2017     0.037127\n",
      "dtype: float64\n"
     ]
    }
   ],
   "source": [
    "print ('Snapshot % of user edits done with no JS support in 2019 :',\n",
    "       (100* (edit_interface_sessions_2019['user_nonjs_edits'] / \n",
    "              ( edit_interface_sessions_2019['user_js_edits'] + edit_interface_sessions_2019['user_nonjs_edits'])))\n",
    "      )"
   ]
  },
  {
   "cell_type": "code",
   "execution_count": 33,
   "metadata": {},
   "outputs": [
    {
     "name": "stdout",
     "output_type": "stream",
     "text": [
      "Snapshot % of anon edits done with no JS support in 2019: editing_interface\n",
      "visualeditor      0.055651\n",
      "wikitext         16.066038\n",
      "wikitext-2017     0.000000\n",
      "dtype: float64\n"
     ]
    }
   ],
   "source": [
    "print ('Snapshot % of anon edits done with no JS support in 2019:',\n",
    "       (100* (edit_interface_sessions_2019['anon_nonjs_edits'] / \n",
    "              ( edit_interface_sessions_2019['anon_js_edits'] + edit_interface_sessions_2019['anon_nonjs_edits'])))\n",
    "      )"
   ]
  },
  {
   "cell_type": "code",
   "execution_count": 34,
   "metadata": {},
   "outputs": [
    {
     "name": "stdout",
     "output_type": "stream",
     "text": [
      "Snapshot % of all edits done with no JS support in 2019: editing_interface\n",
      "visualeditor      0.085949\n",
      "wikitext         28.564611\n",
      "wikitext-2017     0.037120\n",
      "dtype: float64\n"
     ]
    }
   ],
   "source": [
    "print ('Snapshot % of all edits done with no JS support in 2019:',\n",
    "       (100* (edit_interface_sessions_2019['all_nonjs_edits'] / \n",
    "              ( edit_interface_sessions_2019['all_js_edits'] + edit_interface_sessions_2019['all_nonjs_edits'])))\n",
    "      )"
   ]
  },
  {
   "cell_type": "code",
   "execution_count": null,
   "metadata": {},
   "outputs": [],
   "source": []
  }
 ],
 "metadata": {
  "kernelspec": {
   "display_name": "Python 3",
   "language": "python",
   "name": "python3"
  },
  "language_info": {
   "codemirror_mode": {
    "name": "ipython",
    "version": 3
   },
   "file_extension": ".py",
   "mimetype": "text/x-python",
   "name": "python",
   "nbconvert_exporter": "python",
   "pygments_lexer": "ipython3",
   "version": "3.7.3"
  }
 },
 "nbformat": 4,
 "nbformat_minor": 4
}
